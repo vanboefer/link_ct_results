{
 "cells": [
  {
   "cell_type": "code",
   "execution_count": 1,
   "metadata": {},
   "outputs": [],
   "source": [
    "import pandas as pd\n",
    "import matplotlib.pyplot as plt\n",
    "from matplotlib_venn import venn2, venn3"
   ]
  },
  {
   "cell_type": "markdown",
   "metadata": {},
   "source": [
    "# Load results"
   ]
  },
  {
   "cell_type": "code",
   "execution_count": 2,
   "metadata": {},
   "outputs": [],
   "source": [
    "df = pd.read_json('./data/linking_results_all_methods.json', orient='index')"
   ]
  },
  {
   "cell_type": "code",
   "execution_count": 3,
   "metadata": {},
   "outputs": [
    {
     "data": {
      "text/plain": [
       "(72, 11)"
      ]
     },
     "execution_count": 3,
     "metadata": {},
     "output_type": "execute_result"
    }
   ],
   "source": [
    "df.shape"
   ]
  },
  {
   "cell_type": "code",
   "execution_count": 4,
   "metadata": {},
   "outputs": [
    {
     "data": {
      "text/html": [
       "<div>\n",
       "<style scoped>\n",
       "    .dataframe tbody tr th:only-of-type {\n",
       "        vertical-align: middle;\n",
       "    }\n",
       "\n",
       "    .dataframe tbody tr th {\n",
       "        vertical-align: top;\n",
       "    }\n",
       "\n",
       "    .dataframe thead th {\n",
       "        text-align: right;\n",
       "    }\n",
       "</style>\n",
       "<table border=\"1\" class=\"dataframe\">\n",
       "  <thead>\n",
       "    <tr style=\"text-align: right;\">\n",
       "      <th></th>\n",
       "      <th>num_trials_in_epar</th>\n",
       "      <th>epar_ctgov_ncts</th>\n",
       "      <th>epar_ctgov_pmids</th>\n",
       "      <th>pubmed_api_ncts</th>\n",
       "      <th>pubmed_api_pmids</th>\n",
       "      <th>cos08_ncts</th>\n",
       "      <th>cos08_pmids</th>\n",
       "      <th>cos07_ncts</th>\n",
       "      <th>cos07_pmids</th>\n",
       "      <th>cos06_ncts</th>\n",
       "      <th>cos06_pmids</th>\n",
       "    </tr>\n",
       "  </thead>\n",
       "  <tbody>\n",
       "    <tr>\n",
       "      <th>3</th>\n",
       "      <td>21</td>\n",
       "      <td>[NCT01732913, NCT01393106, NCT01282424, NCT015...</td>\n",
       "      <td>[26915677, 29296805, 30995176, 31723767, 24615...</td>\n",
       "      <td>[NCT01796470]</td>\n",
       "      <td>[26968534]</td>\n",
       "      <td>[NCT02044822, NCT01732913, NCT01282424, NCT010...</td>\n",
       "      <td>[]</td>\n",
       "      <td>[NCT02968563, NCT01466153, NCT03986034, NCT007...</td>\n",
       "      <td>[29463802, 27222473, 29226472, 24450857, 27377...</td>\n",
       "      <td>[NCT02968563, NCT01466153, NCT03986034, NCT007...</td>\n",
       "      <td>[29463802, 27797975, 27222473, 29226472, 24450...</td>\n",
       "    </tr>\n",
       "    <tr>\n",
       "      <th>5</th>\n",
       "      <td>8</td>\n",
       "      <td>[NCT00225615, NCT00104247, NCT00272792, NCT001...</td>\n",
       "      <td>[19261295, 17693179]</td>\n",
       "      <td>[NCT00332189, NCT00272792, NCT01376908, NCT001...</td>\n",
       "      <td>[28593914, 21216643, 19016342, 31439512, 17846...</td>\n",
       "      <td>[]</td>\n",
       "      <td>[]</td>\n",
       "      <td>[NCT01732471, NCT01376908, NCT00778206, NCT010...</td>\n",
       "      <td>[]</td>\n",
       "      <td>[NCT01732471, NCT01376908, NCT00778206, NCT010...</td>\n",
       "      <td>[19026037]</td>\n",
       "    </tr>\n",
       "  </tbody>\n",
       "</table>\n",
       "</div>"
      ],
      "text/plain": [
       "   num_trials_in_epar                                    epar_ctgov_ncts  \\\n",
       "3                  21  [NCT01732913, NCT01393106, NCT01282424, NCT015...   \n",
       "5                   8  [NCT00225615, NCT00104247, NCT00272792, NCT001...   \n",
       "\n",
       "                                    epar_ctgov_pmids  \\\n",
       "3  [26915677, 29296805, 30995176, 31723767, 24615...   \n",
       "5                               [19261295, 17693179]   \n",
       "\n",
       "                                     pubmed_api_ncts  \\\n",
       "3                                      [NCT01796470]   \n",
       "5  [NCT00332189, NCT00272792, NCT01376908, NCT001...   \n",
       "\n",
       "                                    pubmed_api_pmids  \\\n",
       "3                                         [26968534]   \n",
       "5  [28593914, 21216643, 19016342, 31439512, 17846...   \n",
       "\n",
       "                                          cos08_ncts cos08_pmids  \\\n",
       "3  [NCT02044822, NCT01732913, NCT01282424, NCT010...          []   \n",
       "5                                                 []          []   \n",
       "\n",
       "                                          cos07_ncts  \\\n",
       "3  [NCT02968563, NCT01466153, NCT03986034, NCT007...   \n",
       "5  [NCT01732471, NCT01376908, NCT00778206, NCT010...   \n",
       "\n",
       "                                         cos07_pmids  \\\n",
       "3  [29463802, 27222473, 29226472, 24450857, 27377...   \n",
       "5                                                 []   \n",
       "\n",
       "                                          cos06_ncts  \\\n",
       "3  [NCT02968563, NCT01466153, NCT03986034, NCT007...   \n",
       "5  [NCT01732471, NCT01376908, NCT00778206, NCT010...   \n",
       "\n",
       "                                         cos06_pmids  \n",
       "3  [29463802, 27797975, 27222473, 29226472, 24450...  \n",
       "5                                         [19026037]  "
      ]
     },
     "execution_count": 4,
     "metadata": {},
     "output_type": "execute_result"
    }
   ],
   "source": [
    "df.head(2)"
   ]
  },
  {
   "cell_type": "markdown",
   "metadata": {},
   "source": [
    "# Example"
   ]
  },
  {
   "cell_type": "markdown",
   "metadata": {},
   "source": [
    "## EMA record 1094 *Exondys*"
   ]
  },
  {
   "cell_type": "code",
   "execution_count": 5,
   "metadata": {},
   "outputs": [],
   "source": [
    "ema_idx = 1094"
   ]
  },
  {
   "cell_type": "code",
   "execution_count": 6,
   "metadata": {},
   "outputs": [
    {
     "data": {
      "text/html": [
       "<div>\n",
       "<style scoped>\n",
       "    .dataframe tbody tr th:only-of-type {\n",
       "        vertical-align: middle;\n",
       "    }\n",
       "\n",
       "    .dataframe tbody tr th {\n",
       "        vertical-align: top;\n",
       "    }\n",
       "\n",
       "    .dataframe thead th {\n",
       "        text-align: right;\n",
       "    }\n",
       "</style>\n",
       "<table border=\"1\" class=\"dataframe\">\n",
       "  <thead>\n",
       "    <tr style=\"text-align: right;\">\n",
       "      <th></th>\n",
       "      <th>num_trials_in_epar</th>\n",
       "      <th>epar_ctgov_ncts</th>\n",
       "      <th>epar_ctgov_pmids</th>\n",
       "      <th>pubmed_api_ncts</th>\n",
       "      <th>pubmed_api_pmids</th>\n",
       "      <th>cos08_ncts</th>\n",
       "      <th>cos08_pmids</th>\n",
       "      <th>cos07_ncts</th>\n",
       "      <th>cos07_pmids</th>\n",
       "      <th>cos06_ncts</th>\n",
       "      <th>cos06_pmids</th>\n",
       "    </tr>\n",
       "  </thead>\n",
       "  <tbody>\n",
       "    <tr>\n",
       "      <th>1094</th>\n",
       "      <td>7</td>\n",
       "      <td>[NCT00844597, NCT02255552, NCT00159250, NCT015...</td>\n",
       "      <td>[26573217, 23907995, 19713152, 21784508]</td>\n",
       "      <td>[NCT00844597, NCT01540409, NCT01396239]</td>\n",
       "      <td>[26573217, 31261494, 23907995, 21784508, 22676...</td>\n",
       "      <td>[NCT03992430, NCT02255552, NCT02286947, NCT024...</td>\n",
       "      <td>[]</td>\n",
       "      <td>[NCT03992430, NCT02255552, NCT01540409, NCT022...</td>\n",
       "      <td>[26573217, 23907995]</td>\n",
       "      <td>[NCT03992430, NCT02255552, NCT01540409, NCT022...</td>\n",
       "      <td>[26573217, 23907995]</td>\n",
       "    </tr>\n",
       "  </tbody>\n",
       "</table>\n",
       "</div>"
      ],
      "text/plain": [
       "      num_trials_in_epar                                    epar_ctgov_ncts  \\\n",
       "1094                   7  [NCT00844597, NCT02255552, NCT00159250, NCT015...   \n",
       "\n",
       "                              epar_ctgov_pmids  \\\n",
       "1094  [26573217, 23907995, 19713152, 21784508]   \n",
       "\n",
       "                              pubmed_api_ncts  \\\n",
       "1094  [NCT00844597, NCT01540409, NCT01396239]   \n",
       "\n",
       "                                       pubmed_api_pmids  \\\n",
       "1094  [26573217, 31261494, 23907995, 21784508, 22676...   \n",
       "\n",
       "                                             cos08_ncts cos08_pmids  \\\n",
       "1094  [NCT03992430, NCT02255552, NCT02286947, NCT024...          []   \n",
       "\n",
       "                                             cos07_ncts           cos07_pmids  \\\n",
       "1094  [NCT03992430, NCT02255552, NCT01540409, NCT022...  [26573217, 23907995]   \n",
       "\n",
       "                                             cos06_ncts           cos06_pmids  \n",
       "1094  [NCT03992430, NCT02255552, NCT01540409, NCT022...  [26573217, 23907995]  "
      ]
     },
     "execution_count": 6,
     "metadata": {},
     "output_type": "execute_result"
    }
   ],
   "source": [
    "df.loc[[ema_idx]]"
   ]
  },
  {
   "cell_type": "code",
   "execution_count": 7,
   "metadata": {},
   "outputs": [],
   "source": [
    "set1_nct = set(df.loc[ema_idx, 'epar_ctgov_ncts'])\n",
    "set2_nct = set(df.loc[ema_idx, 'pubmed_api_ncts'])\n",
    "set3_nct = set(df.loc[ema_idx, 'cos06_ncts'])\n",
    "\n",
    "set1_pmid = set(df.loc[ema_idx, 'epar_ctgov_pmids'])\n",
    "set2_pmid = set(df.loc[ema_idx, 'pubmed_api_pmids'])\n",
    "set3_pmid = set(df.loc[ema_idx, 'cos06_pmids'])"
   ]
  },
  {
   "cell_type": "code",
   "execution_count": 8,
   "metadata": {},
   "outputs": [
    {
     "data": {
      "image/png": "[encoded data removed]",
      "text/plain": [
       "<Figure size 432x266.4 with 1 Axes>"
      ]
     },
     "metadata": {},
     "output_type": "display_data"
    }
   ],
   "source": [
    "# venn diagram CTgov records\n",
    "\n",
    "fig, ax = plt.subplots(figsize=(6.0, 3.7), constrained_layout=True)\n",
    "v = venn3([set1_nct, set2_nct, set3_nct], ('EPAR_CTgov', 'PubMed_API', 'CUI_grouping_cos06'))"
   ]
  },
  {
   "cell_type": "code",
   "execution_count": 9,
   "metadata": {},
   "outputs": [
    {
     "data": {
      "image/png": "[encoded data removed]",
      "text/plain": [
       "<Figure size 432x266.4 with 1 Axes>"
      ]
     },
     "metadata": {},
     "output_type": "display_data"
    }
   ],
   "source": [
    "# venn diagram PubMed records\n",
    "\n",
    "fig, ax = plt.subplots(figsize=(6.0, 3.7), constrained_layout=True)\n",
    "v = venn3([set1_pmid, set2_pmid, set3_pmid], ('EPAR_CTgov', 'PubMed_API', 'CUI_grouping_cos06'))"
   ]
  },
  {
   "cell_type": "code",
   "execution_count": null,
   "metadata": {},
   "outputs": [],
   "source": []
  }
 ],
 "metadata": {
  "kernelspec": {
   "display_name": "link_ct",
   "language": "python",
   "name": "link_ct"
  },
  "language_info": {
   "codemirror_mode": {
    "name": "ipython",
    "version": 3
   },
   "file_extension": ".py",
   "mimetype": "text/x-python",
   "name": "python",
   "nbconvert_exporter": "python",
   "pygments_lexer": "ipython3",
   "version": "3.8.1"
  }
 },
 "nbformat": 4,
 "nbformat_minor": 4
}
